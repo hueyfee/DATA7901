{
 "cells": [
  {
   "cell_type": "markdown",
   "id": "88f4828a-4569-4a8a-bd97-84ee436c6309",
   "metadata": {},
   "source": [
    "# Fiji"
   ]
  },
  {
   "cell_type": "code",
   "execution_count": 3,
   "id": "f198573f-0e9a-4363-b34e-e3688792372a",
   "metadata": {},
   "outputs": [
    {
     "data": {
      "text/html": [
       "<div>\n",
       "<style scoped>\n",
       "    .dataframe tbody tr th:only-of-type {\n",
       "        vertical-align: middle;\n",
       "    }\n",
       "\n",
       "    .dataframe tbody tr th {\n",
       "        vertical-align: top;\n",
       "    }\n",
       "\n",
       "    .dataframe thead th {\n",
       "        text-align: right;\n",
       "    }\n",
       "</style>\n",
       "<table border=\"1\" class=\"dataframe\">\n",
       "  <thead>\n",
       "    <tr style=\"text-align: right;\">\n",
       "      <th></th>\n",
       "      <th>Year</th>\n",
       "      <th>Population</th>\n",
       "    </tr>\n",
       "  </thead>\n",
       "  <tbody>\n",
       "    <tr>\n",
       "      <th>0</th>\n",
       "      <td>2023</td>\n",
       "      <td>936375</td>\n",
       "    </tr>\n",
       "    <tr>\n",
       "      <th>1</th>\n",
       "      <td>2022</td>\n",
       "      <td>929766</td>\n",
       "    </tr>\n",
       "    <tr>\n",
       "      <th>2</th>\n",
       "      <td>2020</td>\n",
       "      <td>920422</td>\n",
       "    </tr>\n",
       "    <tr>\n",
       "      <th>3</th>\n",
       "      <td>2015</td>\n",
       "      <td>917200</td>\n",
       "    </tr>\n",
       "    <tr>\n",
       "      <th>4</th>\n",
       "      <td>2010</td>\n",
       "      <td>905169</td>\n",
       "    </tr>\n",
       "    <tr>\n",
       "      <th>5</th>\n",
       "      <td>2005</td>\n",
       "      <td>874923</td>\n",
       "    </tr>\n",
       "    <tr>\n",
       "      <th>6</th>\n",
       "      <td>2000</td>\n",
       "      <td>832509</td>\n",
       "    </tr>\n",
       "    <tr>\n",
       "      <th>7</th>\n",
       "      <td>1995</td>\n",
       "      <td>792246</td>\n",
       "    </tr>\n",
       "    <tr>\n",
       "      <th>8</th>\n",
       "      <td>1990</td>\n",
       "      <td>780430</td>\n",
       "    </tr>\n",
       "    <tr>\n",
       "      <th>9</th>\n",
       "      <td>1985</td>\n",
       "      <td>727461</td>\n",
       "    </tr>\n",
       "    <tr>\n",
       "      <th>10</th>\n",
       "      <td>1980</td>\n",
       "      <td>644582</td>\n",
       "    </tr>\n",
       "    <tr>\n",
       "      <th>11</th>\n",
       "      <td>1975</td>\n",
       "      <td>575804</td>\n",
       "    </tr>\n",
       "    <tr>\n",
       "      <th>12</th>\n",
       "      <td>1970</td>\n",
       "      <td>527634</td>\n",
       "    </tr>\n",
       "    <tr>\n",
       "      <th>13</th>\n",
       "      <td>1965</td>\n",
       "      <td>469010</td>\n",
       "    </tr>\n",
       "    <tr>\n",
       "      <th>14</th>\n",
       "      <td>1960</td>\n",
       "      <td>401841</td>\n",
       "    </tr>\n",
       "    <tr>\n",
       "      <th>15</th>\n",
       "      <td>1955</td>\n",
       "      <td>343693</td>\n",
       "    </tr>\n",
       "  </tbody>\n",
       "</table>\n",
       "</div>"
      ],
      "text/plain": [
       "    Year  Population\n",
       "0   2023      936375\n",
       "1   2022      929766\n",
       "2   2020      920422\n",
       "3   2015      917200\n",
       "4   2010      905169\n",
       "5   2005      874923\n",
       "6   2000      832509\n",
       "7   1995      792246\n",
       "8   1990      780430\n",
       "9   1985      727461\n",
       "10  1980      644582\n",
       "11  1975      575804\n",
       "12  1970      527634\n",
       "13  1965      469010\n",
       "14  1960      401841\n",
       "15  1955      343693"
      ]
     },
     "execution_count": 3,
     "metadata": {},
     "output_type": "execute_result"
    }
   ],
   "source": [
    "import pandas as pd  \n",
    "from sklearn.linear_model import LinearRegression\n",
    "import matplotlib.pyplot as plt\n",
    "import numpy as np\n",
    "\n",
    "df= pd.read_excel(\"fijipopulation.xlsx\") \n",
    "df"
   ]
  },
  {
   "cell_type": "code",
   "execution_count": 4,
   "id": "f3fc27da-6d0c-4ee2-bdd0-bad4c6fa653c",
   "metadata": {},
   "outputs": [],
   "source": [
    "# Remove NaN rows from the DataFrame\n",
    "df1 = df.dropna()\n",
    "\n",
    "# Filter the new data to include only the years from 2010 onwards\n",
    "df_clean = df1[df1['Year'] >= 2010]\n",
    "\n",
    "# Prepare the features (X) and target (y) variables\n",
    "X = df_clean[['Year']]\n",
    "y = df_clean['Population']"
   ]
  },
  {
   "cell_type": "code",
   "execution_count": 9,
   "id": "b28f4c75-ddd9-4c39-a7db-1d8a5ab4d61b",
   "metadata": {},
   "outputs": [
    {
     "name": "stderr",
     "output_type": "stream",
     "text": [
      "/Applications/anaconda3/lib/python3.9/site-packages/sklearn/base.py:450: UserWarning: X does not have valid feature names, but LinearRegression was fitted with feature names\n",
      "  warnings.warn(\n"
     ]
    }
   ],
   "source": [
    "# Initialize the linear regression model\n",
    "lr_model = LinearRegression()\n",
    "\n",
    "# Fit the model to the data\n",
    "lr_model.fit(X, y)\n",
    "\n",
    "# Generate predictions for the next 10 years\n",
    "future_years = np.array([[year] for year in range(2024, 2034)])\n",
    "future_population = lr_model.predict(future_years)\n",
    "future_population = np.round(future_population).astype(int)\n",
    "\n",
    "# Create a DataFrame to display the predictions\n",
    "future_df = pd.DataFrame({'Year': future_years.flatten(), 'Predicted Population': future_population})"
   ]
  },
  {
   "cell_type": "code",
   "execution_count": 10,
   "id": "7e82326d-f089-4df8-a2ff-86db018ca187",
   "metadata": {},
   "outputs": [
    {
     "data": {
      "image/png": "[encoded data removed]",
      "text/plain": [
       "<Figure size 1000x600 with 1 Axes>"
      ]
     },
     "metadata": {},
     "output_type": "display_data"
    },
    {
     "data": {
      "text/html": [
       "<div>\n",
       "<style scoped>\n",
       "    .dataframe tbody tr th:only-of-type {\n",
       "        vertical-align: middle;\n",
       "    }\n",
       "\n",
       "    .dataframe tbody tr th {\n",
       "        vertical-align: top;\n",
       "    }\n",
       "\n",
       "    .dataframe thead th {\n",
       "        text-align: right;\n",
       "    }\n",
       "</style>\n",
       "<table border=\"1\" class=\"dataframe\">\n",
       "  <thead>\n",
       "    <tr style=\"text-align: right;\">\n",
       "      <th></th>\n",
       "      <th>Year</th>\n",
       "      <th>Predicted Population</th>\n",
       "    </tr>\n",
       "  </thead>\n",
       "  <tbody>\n",
       "    <tr>\n",
       "      <th>0</th>\n",
       "      <td>2024</td>\n",
       "      <td>934439</td>\n",
       "    </tr>\n",
       "    <tr>\n",
       "      <th>1</th>\n",
       "      <td>2025</td>\n",
       "      <td>936548</td>\n",
       "    </tr>\n",
       "    <tr>\n",
       "      <th>2</th>\n",
       "      <td>2026</td>\n",
       "      <td>938656</td>\n",
       "    </tr>\n",
       "    <tr>\n",
       "      <th>3</th>\n",
       "      <td>2027</td>\n",
       "      <td>940765</td>\n",
       "    </tr>\n",
       "    <tr>\n",
       "      <th>4</th>\n",
       "      <td>2028</td>\n",
       "      <td>942874</td>\n",
       "    </tr>\n",
       "    <tr>\n",
       "      <th>5</th>\n",
       "      <td>2029</td>\n",
       "      <td>944983</td>\n",
       "    </tr>\n",
       "    <tr>\n",
       "      <th>6</th>\n",
       "      <td>2030</td>\n",
       "      <td>947091</td>\n",
       "    </tr>\n",
       "    <tr>\n",
       "      <th>7</th>\n",
       "      <td>2031</td>\n",
       "      <td>949200</td>\n",
       "    </tr>\n",
       "    <tr>\n",
       "      <th>8</th>\n",
       "      <td>2032</td>\n",
       "      <td>951309</td>\n",
       "    </tr>\n",
       "    <tr>\n",
       "      <th>9</th>\n",
       "      <td>2033</td>\n",
       "      <td>953417</td>\n",
       "    </tr>\n",
       "  </tbody>\n",
       "</table>\n",
       "</div>"
      ],
      "text/plain": [
       "   Year  Predicted Population\n",
       "0  2024                934439\n",
       "1  2025                936548\n",
       "2  2026                938656\n",
       "3  2027                940765\n",
       "4  2028                942874\n",
       "5  2029                944983\n",
       "6  2030                947091\n",
       "7  2031                949200\n",
       "8  2032                951309\n",
       "9  2033                953417"
      ]
     },
     "execution_count": 10,
     "metadata": {},
     "output_type": "execute_result"
    }
   ],
   "source": [
    "# Plot the actual data and the linear regression model\n",
    "plt.figure(figsize=(10, 6))\n",
    "plt.scatter(X, y, label='Actual Data', color='blue')\n",
    "plt.plot(future_years, future_population, label='Linear Regression Prediction', color='red')\n",
    "plt.xlabel('Year')\n",
    "plt.ylabel('Population')\n",
    "plt.title('Population Prediction for Fiji for the Next 10 Years')\n",
    "plt.legend()\n",
    "plt.grid(True)\n",
    "plt.show()\n",
    "\n",
    "future_df"
   ]
  },
  {
   "cell_type": "markdown",
   "id": "957a7e29-a870-4b9e-ba0a-9138fda0549d",
   "metadata": {},
   "source": [
    "#### 97% of arrivals are in NAN"
   ]
  },
  {
   "cell_type": "markdown",
   "id": "2d90116f-4796-4ebc-94e8-a765ce50bf4c",
   "metadata": {},
   "source": [
    "## Agent Based Model-Nadi International Airport (NAN)"
   ]
  },
  {
   "cell_type": "code",
   "execution_count": 11,
   "id": "154d5f47-d6c9-401d-affa-491161140cb2",
   "metadata": {},
   "outputs": [],
   "source": [
    "from mesa import Agent, Model\n",
    "from mesa.space import MultiGrid\n",
    "from mesa.time import RandomActivation\n",
    "import random"
   ]
  },
  {
   "cell_type": "markdown",
   "id": "8b190428-c394-4449-b109-293982441a58",
   "metadata": {},
   "source": [
    "#### Define the Agent Class"
   ]
  },
  {
   "cell_type": "code",
   "execution_count": 26,
   "id": "4f716394-ada9-4e37-a4db-74e8537dd6e3",
   "metadata": {},
   "outputs": [],
   "source": [
    "class AirportAgent(Agent):\n",
    "    def __init__(self, unique_id, model, foreigner):\n",
    "        super().__init__(unique_id, model)\n",
    "        self.foreigner = foreigner\n",
    "        self.state = \"Infected\" if foreigner and random.random() < 0.10 else \"Healthy\"\n",
    "        self.infection_distance = 1  # You can modify this value to change the \"contact\" distance\n",
    "\n",
    "    def step(self):\n",
    "        # Movement\n",
    "        possible_steps = self.model.grid.get_neighborhood(\n",
    "            self.pos,\n",
    "            moore=True,\n",
    "            include_center=False\n",
    "        )\n",
    "        new_position = random.choice(possible_steps)\n",
    "        self.model.grid.move_agent(self, new_position)\n",
    "\n",
    "        # Recovery for Infected agents\n",
    "        if self.state == \"Infected\" and random.random() < 0.70:\n",
    "            self.state = \"Recovered\"\n",
    "\n",
    "        # Infection\n",
    "        if self.state == \"Healthy\":\n",
    "            cellmates = self.model.grid.get_cell_list_contents([self.pos])\n",
    "            if any(agent.state == \"Infected\" for agent in cellmates):\n",
    "                if random.random() < 0.70:\n",
    "                    self.state = \"Infected\""
   ]
  },
  {
   "cell_type": "markdown",
   "id": "45c28e90-ad52-4855-b4c6-d2eec60c5641",
   "metadata": {},
   "source": [
    "#### Define the Model Class"
   ]
  },
  {
   "cell_type": "code",
   "execution_count": 27,
   "id": "327f6d24-cec5-4a6a-954f-c8b8716a9509",
   "metadata": {},
   "outputs": [],
   "source": [
    "class AirportModel(Model):\n",
    "    def __init__(self, N, width, height):\n",
    "        self.num_agents = N\n",
    "        self.grid = MultiGrid(width, height, True)\n",
    "        self.schedule = RandomActivation(self)\n",
    "        \n",
    "        #We have a population of 3,000 agents per day 13% are local people, and 87% are foreigners.\n",
    "        for i in range(self.num_agents):\n",
    "            foreigner = random.random() > 0.13\n",
    "            agent = AirportAgent(i, self, foreigner)\n",
    "            self.schedule.add(agent)\n",
    "            \n",
    "            # Place agent randomly in the airport\n",
    "            x = random.randrange(self.grid.width)\n",
    "            y = random.randrange(self.grid.height)\n",
    "            self.grid.place_agent(agent, (x, y))\n",
    "\n",
    "    def step(self):\n",
    "        self.schedule.step()"
   ]
  },
  {
   "cell_type": "markdown",
   "id": "24259ca1-3131-4e18-9570-c490a28a7a77",
   "metadata": {},
   "source": [
    "#### Run the Simulation and Plot the Results"
   ]
  },
  {
   "cell_type": "code",
   "execution_count": 28,
   "id": "5b041fe4-f20f-48b0-96cb-e8b18515475f",
   "metadata": {},
   "outputs": [
    {
     "data": {
      "image/png": "[encoded data removed]",
      "text/plain": [
       "<Figure size 1200x800 with 1 Axes>"
      ]
     },
     "metadata": {},
     "output_type": "display_data"
    }
   ],
   "source": [
    "import matplotlib.pyplot as plt\n",
    "\n",
    "# Initialize the model\n",
    "model = AirportModel(3000, 46, 2136)\n",
    "\n",
    "# Initialize lists to hold data\n",
    "healthy_count = []\n",
    "infected_count = []\n",
    "recovered_count = []\n",
    "\n",
    "# Run the model and collect data\n",
    "for i in range(300):  # Run for 100 days\n",
    "    model.step()\n",
    "    \n",
    "    # Collect the current state of each agent\n",
    "    agent_states = [agent.state for agent in model.schedule.agents]\n",
    "    \n",
    "    # Count the number of agents in each state and append to lists\n",
    "    healthy_count.append(agent_states.count(\"Healthy\"))\n",
    "    infected_count.append(agent_states.count(\"Infected\"))\n",
    "    recovered_count.append(agent_states.count(\"Recovered\"))\n",
    "\n",
    "# Plotting the results\n",
    "plt.figure(figsize=(12, 8))\n",
    "plt.plot(healthy_count, label='Healthy')\n",
    "plt.plot(infected_count, label='Infected')\n",
    "plt.plot(recovered_count, label='Recovered')\n",
    "plt.title(\"Agent States Over Time\")\n",
    "plt.xlabel(\"Days\")\n",
    "plt.ylabel(\"Number of Agents\")\n",
    "plt.legend()\n",
    "plt.show()"
   ]
  },
  {
   "cell_type": "markdown",
   "id": "11563bac-e33a-4d8c-90f9-fcca86412e4b",
   "metadata": {},
   "source": [
    "## Agent Based Model-Nausori International Airport (SUV)"
   ]
  },
  {
   "cell_type": "markdown",
   "id": "267b6bce-ef7c-44ad-95f2-12eddfeb8957",
   "metadata": {},
   "source": [
    "#### Define the Agent Class"
   ]
  },
  {
   "cell_type": "code",
   "execution_count": 31,
   "id": "cdb5ffa2-6107-4589-9871-7e0bc1447653",
   "metadata": {},
   "outputs": [],
   "source": [
    "class AirportAgent(Agent):\n",
    "    def __init__(self, unique_id, model, foreigner):\n",
    "        super().__init__(unique_id, model)\n",
    "        self.foreigner = foreigner\n",
    "        self.state = \"Infected\" if foreigner and random.random() < 0.10 else \"Healthy\"\n",
    "        self.infection_distance = 1  # You can modify this value to change the \"contact\" distance\n",
    "\n",
    "    def step(self):\n",
    "        # Movement\n",
    "        possible_steps = self.model.grid.get_neighborhood(\n",
    "            self.pos,\n",
    "            moore=True,\n",
    "            include_center=False\n",
    "        )\n",
    "        new_position = random.choice(possible_steps)\n",
    "        self.model.grid.move_agent(self, new_position)\n",
    "\n",
    "        # Recovery for Infected agents\n",
    "        if self.state == \"Infected\" and random.random() < 0.70:\n",
    "            self.state = \"Recovered\"\n",
    "\n",
    "        # Infection\n",
    "        if self.state == \"Healthy\":\n",
    "            cellmates = self.model.grid.get_cell_list_contents([self.pos])\n",
    "            if any(agent.state == \"Infected\" for agent in cellmates):\n",
    "                if random.random() < 0.70:\n",
    "                    self.state = \"Infected\""
   ]
  },
  {
   "cell_type": "markdown",
   "id": "e1919dd9-fbf8-4975-906f-4de3c1786b74",
   "metadata": {},
   "source": [
    "#### Define the Model Class"
   ]
  },
  {
   "cell_type": "code",
   "execution_count": 32,
   "id": "f7c960b8-2960-40d7-8e86-a420d4a62831",
   "metadata": {},
   "outputs": [],
   "source": [
    "class AirportModel(Model):\n",
    "    def __init__(self, N, width, height):\n",
    "        self.num_agents = N\n",
    "        self.grid = MultiGrid(width, height, True)\n",
    "        self.schedule = RandomActivation(self)\n",
    "        \n",
    "        #We have a population of 3,000 agents per day 13% are local people, and 87% are foreigners.\n",
    "        for i in range(self.num_agents):\n",
    "            foreigner = random.random() > 0.13\n",
    "            agent = AirportAgent(i, self, foreigner)\n",
    "            self.schedule.add(agent)\n",
    "            \n",
    "            # Place agent randomly in the airport\n",
    "            x = random.randrange(self.grid.width)\n",
    "            y = random.randrange(self.grid.height)\n",
    "            self.grid.place_agent(agent, (x, y))\n",
    "\n",
    "    def step(self):\n",
    "        self.schedule.step()"
   ]
  },
  {
   "cell_type": "markdown",
   "id": "a7ac65cf-9055-4cf9-8211-17f695aed6ae",
   "metadata": {},
   "source": [
    "#### Run the Simulation and Plot the Results"
   ]
  },
  {
   "cell_type": "code",
   "execution_count": 33,
   "id": "9efd5136-af52-46b6-a4c7-9431d5134ed1",
   "metadata": {},
   "outputs": [
    {
     "data": {
      "image/png": "[encoded data removed]",
      "text/plain": [
       "<Figure size 1200x800 with 1 Axes>"
      ]
     },
     "metadata": {},
     "output_type": "display_data"
    }
   ],
   "source": [
    "import matplotlib.pyplot as plt\n",
    "\n",
    "# Initialize the model\n",
    "model1 = AirportModel(3000, 30, 1748)\n",
    "\n",
    "# Initialize lists to hold data\n",
    "healthy_count = []\n",
    "infected_count = []\n",
    "recovered_count = []\n",
    "\n",
    "# Run the model and collect data\n",
    "for i in range(300):  # Run for 100 days\n",
    "    model1.step()\n",
    "    \n",
    "    # Collect the current state of each agent\n",
    "    agent_states1 = [agent.state for agent in model1.schedule.agents]\n",
    "    \n",
    "    # Count the number of agents in each state and append to lists\n",
    "    healthy_count.append(agent_states1.count(\"Healthy\"))\n",
    "    infected_count.append(agent_states1.count(\"Infected\"))\n",
    "    recovered_count.append(agent_states1.count(\"Recovered\"))\n",
    "\n",
    "# Plotting the results\n",
    "plt.figure(figsize=(12, 8))\n",
    "plt.plot(healthy_count, label='Healthy')\n",
    "plt.plot(infected_count, label='Infected')\n",
    "plt.plot(recovered_count, label='Recovered')\n",
    "plt.title(\"Agent States Over Time\")\n",
    "plt.xlabel(\"Days\")\n",
    "plt.ylabel(\"Number of Agents\")\n",
    "plt.legend()\n",
    "plt.show()"
   ]
  },
  {
   "cell_type": "code",
   "execution_count": null,
   "id": "0286a9bb-6c49-4ebe-9507-bd6811ea03d0",
   "metadata": {},
   "outputs": [],
   "source": []
  }
 ],
 "metadata": {
  "kernelspec": {
   "display_name": "Python 3 (ipykernel)",
   "language": "python",
   "name": "python3"
  },
  "language_info": {
   "codemirror_mode": {
    "name": "ipython",
    "version": 3
   },
   "file_extension": ".py",
   "mimetype": "text/x-python",
   "name": "python",
   "nbconvert_exporter": "python",
   "pygments_lexer": "ipython3",
   "version": "3.9.13"
  }
 },
 "nbformat": 4,
 "nbformat_minor": 5
}
