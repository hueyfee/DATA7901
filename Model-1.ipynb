{
 "cells": [
  {
   "cell_type": "markdown",
   "metadata": {},
   "source": [
    "## Travel network analysis for infectious disease transmission in Pacific Island countries"
   ]
  },
  {
   "cell_type": "code",
   "execution_count": 1,
   "metadata": {},
   "outputs": [],
   "source": [
    "import numpy as np"
   ]
  },
  {
   "cell_type": "markdown",
   "metadata": {},
   "source": [
    "### 1.Model"
   ]
  },
  {
   "cell_type": "code",
   "execution_count": null,
   "metadata": {},
   "outputs": [],
   "source": []
  },
  {
   "cell_type": "markdown",
   "metadata": {},
   "source": []
  },
  {
   "cell_type": "markdown",
   "metadata": {},
   "source": [
    "### 2.Migration Step"
   ]
  },
  {
   "cell_type": "code",
   "execution_count": 19,
   "metadata": {},
   "outputs": [
    {
     "name": "stdout",
     "output_type": "stream",
     "text": [
      "Initial state:\n",
      "Location 1: [0. 0. 0. 0.]\n",
      "Location 2: [0. 0. 0. 0.]\n",
      "Location 3: [0. 0. 0. 0.]\n",
      "Location 4: [0. 0. 0. 0.]\n",
      "Location 5: [0. 0. 0. 0.]\n",
      "Location 6: [0. 0. 0. 0.]\n",
      "\n",
      "Migration matrix W:\n",
      "[[[0.         0.         0.         0.        ]\n",
      "  [0.28571429 0.28571429 0.14285714 0.28571429]\n",
      "  [0.33333333 0.25       0.16666667 0.25      ]\n",
      "  [0.5        0.25       0.125      0.125     ]\n",
      "  [0.27272727 0.18181818 0.36363636 0.18181818]\n",
      "  [0.18181818 0.27272727 0.27272727 0.27272727]]\n",
      "\n",
      " [[0.125      0.25       0.375      0.25      ]\n",
      "  [0.         0.         0.         0.        ]\n",
      "  [0.33333333 0.33333333 0.25       0.08333333]\n",
      "  [0.3        0.3        0.1        0.3       ]\n",
      "  [0.3        0.2        0.3        0.2       ]\n",
      "  [0.1        0.3        0.2        0.4       ]]\n",
      "\n",
      " [[0.36363636 0.09090909 0.27272727 0.27272727]\n",
      "  [0.16666667 0.16666667 0.16666667 0.5       ]\n",
      "  [0.         0.         0.         0.        ]\n",
      "  [0.25       0.125      0.25       0.375     ]\n",
      "  [0.1        0.4        0.4        0.1       ]\n",
      "  [0.1        0.3        0.3        0.3       ]]\n",
      "\n",
      " [[0.125      0.25       0.125      0.5       ]\n",
      "  [0.2        0.3        0.1        0.4       ]\n",
      "  [0.14285714 0.28571429 0.14285714 0.42857143]\n",
      "  [0.         0.         0.         0.        ]\n",
      "  [0.36363636 0.18181818 0.27272727 0.18181818]\n",
      "  [0.36363636 0.09090909 0.36363636 0.18181818]]\n",
      "\n",
      " [[0.28571429 0.28571429 0.28571429 0.14285714]\n",
      "  [0.33333333 0.22222222 0.33333333 0.11111111]\n",
      "  [0.09090909 0.36363636 0.27272727 0.27272727]\n",
      "  [0.25       0.08333333 0.33333333 0.33333333]\n",
      "  [0.         0.         0.         0.        ]\n",
      "  [0.33333333 0.11111111 0.11111111 0.44444444]]\n",
      "\n",
      " [[0.1        0.2        0.4        0.3       ]\n",
      "  [0.22222222 0.22222222 0.44444444 0.11111111]\n",
      "  [0.44444444 0.11111111 0.22222222 0.22222222]\n",
      "  [0.1        0.3        0.3        0.3       ]\n",
      "  [0.11111111 0.33333333 0.44444444 0.11111111]\n",
      "  [0.         0.         0.         0.        ]]]\n"
     ]
    }
   ],
   "source": [
    "import numpy as np\n",
    "\n",
    "Tmax = 365  # Simulation days\n",
    "D = 6  # Number of locations\n",
    "L = 2  # Number of external connections\n",
    "\n",
    "population = np.array([1200, 800, 1500, 1000, 2000])\n",
    "\n",
    "# Initialize the state vector array, where each position's state vector is a 4-dimensional vector [S, E, I, R]\n",
    "vectors = np.zeros((D, 4))\n",
    "\n",
    "# Define the migration matrix W, representing the migration between each pair of locations, where each element is a 4-dimensional vector [S, E, I, R]\n",
    "migration_matrix = np.random.randint(1, 5, size=(D, D, 4))\n",
    "\n",
    "# Set the diagonal elements (migration within the same location) to 0\n",
    "for i in range(D):\n",
    "    migration_matrix[i, i, :] = 0\n",
    "\n",
    "# Ensure that the total migration in and out of each location is the same\n",
    "migration_totals = np.sum(migration_matrix, axis=2, keepdims=True)\n",
    "migration_totals[migration_totals == 0] = 1  # Avoid division by zero errors\n",
    "migration_matrix = migration_matrix / migration_totals\n",
    "\n",
    "# Output initial state\n",
    "print(\"Initial state:\")\n",
    "for i, vector in enumerate(vectors):\n",
    "    print(f\"Location {i + 1}: {vector}\")\n",
    "\n",
    "# Print the migration matrix W\n",
    "print(\"\\nMigration matrix W:\")\n",
    "print(migration_matrix)\n",
    "\n"
   ]
  },
  {
   "cell_type": "markdown",
   "metadata": {},
   "source": [
    "### 3.Infection Step"
   ]
  }
 ],
 "metadata": {
  "kernelspec": {
   "display_name": "Python 3",
   "language": "python",
   "name": "python3"
  },
  "language_info": {
   "codemirror_mode": {
    "name": "ipython",
    "version": 3
   },
   "file_extension": ".py",
   "mimetype": "text/x-python",
   "name": "python",
   "nbconvert_exporter": "python",
   "pygments_lexer": "ipython3",
   "version": "3.10.13"
  }
 },
 "nbformat": 4,
 "nbformat_minor": 2
}
